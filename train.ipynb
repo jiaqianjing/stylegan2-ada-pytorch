{
 "cells": [
  {
   "cell_type": "code",
   "execution_count": 15,
   "id": "fc1a094a-bb0b-44ba-bc6f-dceb4a7b7aba",
   "metadata": {},
   "outputs": [],
   "source": [
    "import os\n",
    "import click\n",
    "import re\n",
    "import json\n",
    "import tempfile\n",
    "import torch\n",
    "import dnnlib\n",
    "\n",
    "from training import training_loop\n",
    "from metrics import metric_main\n",
    "from torch_utils import training_stats\n",
    "from torch_utils import custom_ops"
   ]
  },
  {
   "cell_type": "code",
   "execution_count": 26,
   "id": "141e9081-8a96-4eb8-8d4d-3ec1102609d3",
   "metadata": {},
   "outputs": [],
   "source": [
    "# =======================================================\n",
    "# Stylegan2 configuration\n",
    "# =======================================================\n",
    "#    python train.py --outdir=~/training-runs \\\n",
    "#                    --data=~/datasets/ffhq.zip \\\n",
    "#                    --gpus=8 \\\n",
    "#                    --cfg=stylegan2 \\\n",
    "#                    --mirror=1 \\\n",
    "#                    --aug=noaug\n",
    "args = dnnlib.EasyDict()\n",
    "args.num_gpus = 8\n",
    "args.image_snapshot_ticks = 50\n",
    "args.network_snapshot_ticks = 50\n",
    "args.metrics = ['fid50k_full']\n",
    "args.random_seed = 0\n",
    "args.training_set_kwargs = dnnlib.EasyDict(class_name='training.dataset.ImageFolderDataset', \n",
    "                                           path='~/datasets/ffhq.zip', \n",
    "                                           use_labels=True, \n",
    "                                           max_size=None, \n",
    "                                           xflip=False)\n",
    "args.data_loader_kwargs = dnnlib.EasyDict(pin_memory=True, \n",
    "                                          num_workers=3, \n",
    "                                          prefetch_factor=2)\n",
    "args.training_set_kwargs.resolution  = 1024\n"
   ]
  },
  {
   "cell_type": "code",
   "execution_count": 24,
   "id": "6e61db37-ff63-426f-9318-1eb424199b04",
   "metadata": {},
   "outputs": [
    {
     "name": "stdout",
     "output_type": "stream",
     "text": [
      "{'data_loader_kwargs': {'num_workers': 3,\n",
      "                        'pin_memory': True,\n",
      "                        'prefetch_factor': 2},\n",
      " 'image_snapshot_ticks': 50,\n",
      " 'metrics': ['fid50k_full'],\n",
      " 'network_snapshot_ticks': 50,\n",
      " 'num_gpus': 8,\n",
      " 'random_seed': 0,\n",
      " 'training_set_kwargs': {'class_name': 'training.dataset.ImageFolderDataset',\n",
      "                         'max_size': None,\n",
      "                         'path': '~/datasets/ffhq.zip',\n",
      "                         'use_labels': True,\n",
      "                         'xflip': False}}\n"
     ]
    }
   ],
   "source": [
    "import pprint\n",
    "pprint.pprint(args)"
   ]
  },
  {
   "cell_type": "code",
   "execution_count": null,
   "id": "ec7ef920-8d89-4bdf-868e-0cea6bbd603f",
   "metadata": {},
   "outputs": [],
   "source": []
  }
 ],
 "metadata": {
  "kernelspec": {
   "display_name": "Python 3 (ipykernel)",
   "language": "python",
   "name": "python3"
  },
  "language_info": {
   "codemirror_mode": {
    "name": "ipython",
    "version": 3
   },
   "file_extension": ".py",
   "mimetype": "text/x-python",
   "name": "python",
   "nbconvert_exporter": "python",
   "pygments_lexer": "ipython3",
   "version": "3.7.10"
  }
 },
 "nbformat": 4,
 "nbformat_minor": 5
}
